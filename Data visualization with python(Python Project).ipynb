{
 "cells": [
  {
   "cell_type": "code",
   "execution_count": 1,
   "id": "3a8edf91-7e1f-4736-8b0f-6dadce6f2d90",
   "metadata": {},
   "outputs": [],
   "source": [
    "import requests\n",
    "from bs4 import BeautifulSoup\n",
    "import pandas as pd\n",
    "from deep_translator import GoogleTranslator"
   ]
  },
  {
   "cell_type": "code",
   "execution_count": 2,
   "id": "c5f35647-6cb6-4c3a-9f8f-64d29a03bf46",
   "metadata": {},
   "outputs": [
    {
     "data": {
      "text/plain": [
       "200"
      ]
     },
     "execution_count": 2,
     "metadata": {},
     "output_type": "execute_result"
    }
   ],
   "source": [
    "rq = requests.get('https://aziza.tn/fr/home')\n",
    "rq.status_code"
   ]
  },
  {
   "cell_type": "code",
   "execution_count": 3,
   "id": "b9b07143-62ca-44ca-a8da-d72cc3e3a60f",
   "metadata": {},
   "outputs": [],
   "source": [
    "soup = BeautifulSoup(rq.content, 'html.parser')"
   ]
  },
  {
   "cell_type": "code",
   "execution_count": 18,
   "id": "0bf2a577-4ccc-411a-b485-67411db8b1c8",
   "metadata": {},
   "outputs": [],
   "source": [
    "data = [] \n",
    "products = soup.find_all('li', class_='product-item')\n",
    "for product in products:\n",
    "    # print(products)\n",
    "    name_tag = product.find('a', class_='product-item-link')\n",
    "    price_tag = product.find('span', class_='price')\n",
    "    availability_tag = product.find('div', class_='product-item-actions')\n",
    "    promo_tag = product.find('div', class_='decro')\n",
    "\n",
    "    name = name_tag.text.strip() if name_tag else 'N/A'\n",
    "    price = price_tag.text.strip().replace(',','') if price_tag else 0\n",
    "    availability = availability_tag.text.strip() if availability_tag else 'N/A'\n",
    "    promo = promo_tag.text.strip() if promo_tag else 'No Promo'\n",
    "\n",
    "    data.append({'Product_Name': name,\n",
    "            'Price': float(price),\n",
    "           'Availability_Status': availability,\n",
    "            'Promotion': promo})\n",
    "\n",
    "# print(promo)\n",
    "# for product in products:\n",
    "#     name = product.find('h2', class_='h3 product-title')\n",
    "#     price = product.find('span', class_='price')\n",
    "\n",
    "#     product_name = name.text.strip() if name else 'N/A'\n",
    "#     product_price = price.text.strip() if price else 'N/A'\n",
    "\n",
    "#     print(f\"Name: {product_name} | Price: {product_price}\")"
   ]
  },
  {
   "cell_type": "code",
   "execution_count": 19,
   "id": "89d9577b-28e1-4801-80dc-11d65ce5ece9",
   "metadata": {},
   "outputs": [],
   "source": [
    "df = pd.DataFrame(data)"
   ]
  },
  {
   "cell_type": "code",
   "execution_count": 29,
   "id": "d63f1339",
   "metadata": {},
   "outputs": [],
   "source": [
    "df.drop('Availability_Status',axis=1,inplace=True)"
   ]
  },
  {
   "cell_type": "code",
   "execution_count": 34,
   "id": "5000a900-c7b5-4fe5-a1c2-8ac0734dae7a",
   "metadata": {},
   "outputs": [
    {
     "data": {
      "text/html": [
       "<div>\n",
       "<style scoped>\n",
       "    .dataframe tbody tr th:only-of-type {\n",
       "        vertical-align: middle;\n",
       "    }\n",
       "\n",
       "    .dataframe tbody tr th {\n",
       "        vertical-align: top;\n",
       "    }\n",
       "\n",
       "    .dataframe thead th {\n",
       "        text-align: right;\n",
       "    }\n",
       "</style>\n",
       "<table border=\"1\" class=\"dataframe\">\n",
       "  <thead>\n",
       "    <tr style=\"text-align: right;\">\n",
       "      <th></th>\n",
       "      <th>Product_Name</th>\n",
       "      <th>Price</th>\n",
       "      <th>Promotion</th>\n",
       "      <th>Category</th>\n",
       "    </tr>\n",
       "  </thead>\n",
       "  <tbody>\n",
       "    <tr>\n",
       "      <th>0</th>\n",
       "      <td>Set of 2 sauce distributors</td>\n",
       "      <td>1100.0</td>\n",
       "      <td>No Promo</td>\n",
       "      <td>Kitchen &amp; Cooking Tools</td>\n",
       "    </tr>\n",
       "    <tr>\n",
       "      <th>1</th>\n",
       "      <td>Builder rest</td>\n",
       "      <td>1500.0</td>\n",
       "      <td>No Promo</td>\n",
       "      <td>Other</td>\n",
       "    </tr>\n",
       "    <tr>\n",
       "      <th>2</th>\n",
       "      <td>Bucket with cover</td>\n",
       "      <td>1980.0</td>\n",
       "      <td>No Promo</td>\n",
       "      <td>Kitchen &amp; Cooking Tools</td>\n",
       "    </tr>\n",
       "    <tr>\n",
       "      <th>3</th>\n",
       "      <td>Spaghetti</td>\n",
       "      <td>2000.0</td>\n",
       "      <td>No Promo</td>\n",
       "      <td>Pasta, Rice &amp; Dry Goods</td>\n",
       "    </tr>\n",
       "    <tr>\n",
       "      <th>4</th>\n",
       "      <td>Basket 3 compartments</td>\n",
       "      <td>2000.0</td>\n",
       "      <td>No Promo</td>\n",
       "      <td>Other</td>\n",
       "    </tr>\n",
       "    <tr>\n",
       "      <th>5</th>\n",
       "      <td>Storage box</td>\n",
       "      <td>2190.0</td>\n",
       "      <td>No Promo</td>\n",
       "      <td>Kitchen &amp; Cooking Tools</td>\n",
       "    </tr>\n",
       "    <tr>\n",
       "      <th>6</th>\n",
       "      <td>LED lamp</td>\n",
       "      <td>2980.0</td>\n",
       "      <td>No Promo</td>\n",
       "      <td>Electronics &amp; Gadgets</td>\n",
       "    </tr>\n",
       "    <tr>\n",
       "      <th>7</th>\n",
       "      <td>Set 3 pots</td>\n",
       "      <td>2990.0</td>\n",
       "      <td>No Promo</td>\n",
       "      <td>Kitchen &amp; Cooking Tools</td>\n",
       "    </tr>\n",
       "    <tr>\n",
       "      <th>8</th>\n",
       "      <td>Basmati rice</td>\n",
       "      <td>4890.0</td>\n",
       "      <td>No Promo</td>\n",
       "      <td>Pasta, Rice &amp; Dry Goods</td>\n",
       "    </tr>\n",
       "    <tr>\n",
       "      <th>9</th>\n",
       "      <td>Set 3 conservation boxes</td>\n",
       "      <td>6980.0</td>\n",
       "      <td>No Promo</td>\n",
       "      <td>Kitchen &amp; Cooking Tools</td>\n",
       "    </tr>\n",
       "    <tr>\n",
       "      <th>10</th>\n",
       "      <td>Cup with lid+straw</td>\n",
       "      <td>7980.0</td>\n",
       "      <td>No Promo</td>\n",
       "      <td>Other</td>\n",
       "    </tr>\n",
       "    <tr>\n",
       "      <th>11</th>\n",
       "      <td>Set of 2 glass cuts</td>\n",
       "      <td>7980.0</td>\n",
       "      <td>No Promo</td>\n",
       "      <td>Kitchen &amp; Cooking Tools</td>\n",
       "    </tr>\n",
       "    <tr>\n",
       "      <th>12</th>\n",
       "      <td>Set 2 glass bowls</td>\n",
       "      <td>9270.0</td>\n",
       "      <td>No Promo</td>\n",
       "      <td>Kitchen &amp; Cooking Tools</td>\n",
       "    </tr>\n",
       "    <tr>\n",
       "      <th>13</th>\n",
       "      <td>Set 2 Cafe cups</td>\n",
       "      <td>9580.0</td>\n",
       "      <td>No Promo</td>\n",
       "      <td>Other</td>\n",
       "    </tr>\n",
       "    <tr>\n",
       "      <th>14</th>\n",
       "      <td>6 ice cup box</td>\n",
       "      <td>10900.0</td>\n",
       "      <td>No Promo</td>\n",
       "      <td>Kitchen &amp; Cooking Tools</td>\n",
       "    </tr>\n",
       "    <tr>\n",
       "      <th>15</th>\n",
       "      <td>Jumper</td>\n",
       "      <td>10960.0</td>\n",
       "      <td>No Promo</td>\n",
       "      <td>Other</td>\n",
       "    </tr>\n",
       "    <tr>\n",
       "      <th>16</th>\n",
       "      <td>Rectangular oven</td>\n",
       "      <td>10980.0</td>\n",
       "      <td>No Promo</td>\n",
       "      <td>Kitchen &amp; Cooking Tools</td>\n",
       "    </tr>\n",
       "    <tr>\n",
       "      <th>17</th>\n",
       "      <td>Bodybuilding wrist</td>\n",
       "      <td>12980.0</td>\n",
       "      <td>No Promo</td>\n",
       "      <td>Fitness &amp; Sports Equipment</td>\n",
       "    </tr>\n",
       "    <tr>\n",
       "      <th>18</th>\n",
       "      <td>Elastic fitness</td>\n",
       "      <td>13680.0</td>\n",
       "      <td>No Promo</td>\n",
       "      <td>Fitness &amp; Sports Equipment</td>\n",
       "    </tr>\n",
       "    <tr>\n",
       "      <th>19</th>\n",
       "      <td>Ankle weight in neoprene</td>\n",
       "      <td>17570.0</td>\n",
       "      <td>No Promo</td>\n",
       "      <td>Other</td>\n",
       "    </tr>\n",
       "  </tbody>\n",
       "</table>\n",
       "</div>"
      ],
      "text/plain": [
       "                   Product_Name    Price Promotion                    Category\n",
       "0   Set of 2 sauce distributors   1100.0  No Promo     Kitchen & Cooking Tools\n",
       "1                  Builder rest   1500.0  No Promo                       Other\n",
       "2             Bucket with cover   1980.0  No Promo     Kitchen & Cooking Tools\n",
       "3                     Spaghetti   2000.0  No Promo     Pasta, Rice & Dry Goods\n",
       "4         Basket 3 compartments   2000.0  No Promo                       Other\n",
       "5                   Storage box   2190.0  No Promo     Kitchen & Cooking Tools\n",
       "6                      LED lamp   2980.0  No Promo       Electronics & Gadgets\n",
       "7                    Set 3 pots   2990.0  No Promo     Kitchen & Cooking Tools\n",
       "8                  Basmati rice   4890.0  No Promo     Pasta, Rice & Dry Goods\n",
       "9      Set 3 conservation boxes   6980.0  No Promo     Kitchen & Cooking Tools\n",
       "10           Cup with lid+straw   7980.0  No Promo                       Other\n",
       "11          Set of 2 glass cuts   7980.0  No Promo     Kitchen & Cooking Tools\n",
       "12            Set 2 glass bowls   9270.0  No Promo     Kitchen & Cooking Tools\n",
       "13              Set 2 Cafe cups   9580.0  No Promo                       Other\n",
       "14                6 ice cup box  10900.0  No Promo     Kitchen & Cooking Tools\n",
       "15                       Jumper  10960.0  No Promo                       Other\n",
       "16             Rectangular oven  10980.0  No Promo     Kitchen & Cooking Tools\n",
       "17           Bodybuilding wrist  12980.0  No Promo  Fitness & Sports Equipment\n",
       "18              Elastic fitness  13680.0  No Promo  Fitness & Sports Equipment\n",
       "19     Ankle weight in neoprene  17570.0  No Promo                       Other"
      ]
     },
     "execution_count": 34,
     "metadata": {},
     "output_type": "execute_result"
    }
   ],
   "source": [
    "df.head(20)"
   ]
  },
  {
   "cell_type": "code",
   "execution_count": 31,
   "id": "a2d339a8",
   "metadata": {},
   "outputs": [],
   "source": [
    "df.to_json('product.json',index=False)"
   ]
  },
  {
   "cell_type": "code",
   "execution_count": 21,
   "id": "48a3d5ab-6535-4434-b525-9a3c210db18f",
   "metadata": {},
   "outputs": [],
   "source": [
    "df = df[df['Price'] != 0]"
   ]
  },
  {
   "cell_type": "code",
   "execution_count": 22,
   "id": "e07ac3ae-60ff-4ef2-aa33-ef3325c37e83",
   "metadata": {},
   "outputs": [],
   "source": [
    "df.reset_index(drop=True,inplace=True)"
   ]
  },
  {
   "cell_type": "code",
   "execution_count": 23,
   "id": "cb9f1291-801f-4737-8b8d-b0e79ba2ab3d",
   "metadata": {},
   "outputs": [
    {
     "data": {
      "text/plain": [
       "Product_Name           0\n",
       "Price                  0\n",
       "Availability_Status    0\n",
       "Promotion              0\n",
       "dtype: int64"
      ]
     },
     "execution_count": 23,
     "metadata": {},
     "output_type": "execute_result"
    }
   ],
   "source": [
    "df.isnull().sum()"
   ]
  },
  {
   "cell_type": "code",
   "execution_count": 56,
   "id": "9674177f-afb4-4a40-8710-f950295aadeb",
   "metadata": {},
   "outputs": [
    {
     "data": {
      "text/plain": [
       "Promotion\n",
       "No Promo    226\n",
       "-15%          4\n",
       "-29%          4\n",
       "-23%          3\n",
       "-24%          3\n",
       "-6%           2\n",
       "-33%          2\n",
       "-20%          2\n",
       "-12%          2\n",
       "-21%          2\n",
       "-11%          1\n",
       "-10%          1\n",
       "-17%          1\n",
       "-26%          1\n",
       "-28%          1\n",
       "-31%          1\n",
       "-30%          1\n",
       "Name: count, dtype: int64"
      ]
     },
     "execution_count": 56,
     "metadata": {},
     "output_type": "execute_result"
    }
   ],
   "source": [
    "df['Promotion'].value_counts()"
   ]
  },
  {
   "cell_type": "code",
   "execution_count": 25,
   "id": "a2fdc792-a235-4da3-8ccc-247096d3de7f",
   "metadata": {},
   "outputs": [
    {
     "name": "stdout",
     "output_type": "stream",
     "text": [
      "<class 'pandas.core.frame.DataFrame'>\n",
      "RangeIndex: 257 entries, 0 to 256\n",
      "Data columns (total 4 columns):\n",
      " #   Column               Non-Null Count  Dtype  \n",
      "---  ------               --------------  -----  \n",
      " 0   Product_Name         257 non-null    object \n",
      " 1   Price                257 non-null    float64\n",
      " 2   Availability_Status  257 non-null    object \n",
      " 3   Promotion            257 non-null    object \n",
      "dtypes: float64(1), object(3)\n",
      "memory usage: 8.2+ KB\n"
     ]
    }
   ],
   "source": [
    "df.info()"
   ]
  },
  {
   "cell_type": "code",
   "execution_count": 26,
   "id": "b4d1b32e-a7c9-4b2a-95e0-d83f6c065d15",
   "metadata": {},
   "outputs": [],
   "source": [
    "def translate_text(text):\n",
    "    try:\n",
    "        return GoogleTranslator(source='fr', target='en').translate(text)\n",
    "    except Exception as e:\n",
    "        return f\"Error: {e}\""
   ]
  },
  {
   "cell_type": "code",
   "execution_count": 27,
   "id": "f6f205ed-456f-4baf-87e0-2e9fd15c2b20",
   "metadata": {},
   "outputs": [],
   "source": [
    "df['Product_Name'] = df['Product_Name'].apply(translate_text)"
   ]
  },
  {
   "cell_type": "code",
   "execution_count": 16,
   "id": "d5197a08-873a-42ac-8635-8a0c9dd4d47a",
   "metadata": {},
   "outputs": [],
   "source": [
    "import plotly.express as px"
   ]
  },
  {
   "cell_type": "code",
   "execution_count": 32,
   "id": "fe5f081c-5b43-4ca1-9a5f-d67b3495e212",
   "metadata": {},
   "outputs": [],
   "source": [
    "def categorize_product(name):\n",
    "    name = name.lower()\n",
    "    if any(keyword in name for keyword in [\"sauce\", \"bucket\", \"box\", \"tray\", \"pot\", \"knife\", \"spoon\", \"glass\", \"mug\", \"bottle\", \"pitcher\", \"storage\", \"oven\", \"pan\", \"colander\", \"creperie\"]):\n",
    "        return \"Kitchen & Cooking Tools\"\n",
    "    elif any(keyword in name for keyword in [\"dumbbell\", \"yoga\", \"fitness\", \"wrist\", \"ball\", \"bike\", \"helmet\", \"step\", \"gym\", \"bodybuilding\", \"resistance\", \"roulette\"]):\n",
    "        return \"Fitness & Sports Equipment\"\n",
    "    elif any(keyword in name for keyword in [\"smartwatch\", \"bluetooth\", \"kit\", \"speaker\", \"lamp\", \"keyboard\", \"mouse\", \"helmet\", \"drumfit\"]):\n",
    "        return \"Electronics & Gadgets\"\n",
    "    elif any(keyword in name for keyword in [\"shampoo\", \"gel\", \"deodorant\", \"cream\", \"omega\", \"ricotta\"]):\n",
    "        return \"Personal Care\"\n",
    "    elif any(keyword in name for keyword in [\"dishwashing\", \"laundry\", \"bleach\", \"powder\", \"soap\", \"deodorant\", \"wc\", \"cleaner\"]):\n",
    "        return \"Household Supplies\"\n",
    "    elif \"yogurt\" in name or \"cheese\" in name:\n",
    "        return \"Dairy & Yogurt\"\n",
    "    elif any(keyword in name for keyword in [\"cookie\", \"cake\", \"waf\", \"tart\", \"biscuit\", \"browniz\"]):\n",
    "        return \"Snacks & Cookies\"\n",
    "    elif any(keyword in name for keyword in [\"juice\", \"drink\", \"nectar\", \"cocktail\", \"water\"]):\n",
    "        return \"Drinks\"\n",
    "    elif any(keyword in name for keyword in [\"spaghetti\", \"rice\", \"basmati\"]):\n",
    "        return \"Pasta, Rice & Dry Goods\"\n",
    "    elif any(keyword in name for keyword in [\"salami\", \"tuna\", \"chicken\", \"salam\"]):\n",
    "        return \"Meat, Tuna & Protein\"\n",
    "    elif any(keyword in name for keyword in [\"mayonnaise\", \"harissa\", \"sauce\", \"cream\"]):\n",
    "        return \"Condiments & Sauces\"\n",
    "    elif any(keyword in name for keyword in [\"jam\", \"preparation\", \"butter\", \"almond\", \"coffee\", \"vermicelli\"]):\n",
    "        return \"Breakfast & Jam\"\n",
    "    elif any(keyword in name for keyword in [\"ice\", \"dessert\", \"chamia\", \"pacifier\", \"bar\"]):\n",
    "        return \"Ice Cream & Desserts\"\n",
    "    elif any(keyword in name for keyword in [\"children\", \"panties\", \"baby\"]):\n",
    "        return \"Baby & Childcare\"\n",
    "    elif \"coffee\" in name or \"mug\" in name:\n",
    "        return \"Coffee & Tea\"\n",
    "    else:\n",
    "        return \"Other\"\n",
    "\n"
   ]
  },
  {
   "cell_type": "code",
   "execution_count": 33,
   "id": "4ec4c89f",
   "metadata": {},
   "outputs": [],
   "source": [
    "df[\"Category\"] = df[\"Product_Name\"].apply(categorize_product)"
   ]
  },
  {
   "cell_type": "code",
   "execution_count": 54,
   "id": "7d948e17",
   "metadata": {},
   "outputs": [
    {
     "data": {
      "text/html": [
       "<div>\n",
       "<style scoped>\n",
       "    .dataframe tbody tr th:only-of-type {\n",
       "        vertical-align: middle;\n",
       "    }\n",
       "\n",
       "    .dataframe tbody tr th {\n",
       "        vertical-align: top;\n",
       "    }\n",
       "\n",
       "    .dataframe thead th {\n",
       "        text-align: right;\n",
       "    }\n",
       "</style>\n",
       "<table border=\"1\" class=\"dataframe\">\n",
       "  <thead>\n",
       "    <tr style=\"text-align: right;\">\n",
       "      <th></th>\n",
       "      <th>Category</th>\n",
       "      <th>Average Price</th>\n",
       "    </tr>\n",
       "  </thead>\n",
       "  <tbody>\n",
       "    <tr>\n",
       "      <th>0</th>\n",
       "      <td>Baby &amp; Childcare</td>\n",
       "      <td>32970.000000</td>\n",
       "    </tr>\n",
       "    <tr>\n",
       "      <th>1</th>\n",
       "      <td>Breakfast &amp; Jam</td>\n",
       "      <td>11111.666667</td>\n",
       "    </tr>\n",
       "    <tr>\n",
       "      <th>2</th>\n",
       "      <td>Condiments &amp; Sauces</td>\n",
       "      <td>5390.000000</td>\n",
       "    </tr>\n",
       "    <tr>\n",
       "      <th>3</th>\n",
       "      <td>Dairy &amp; Yogurt</td>\n",
       "      <td>2001.052632</td>\n",
       "    </tr>\n",
       "    <tr>\n",
       "      <th>4</th>\n",
       "      <td>Drinks</td>\n",
       "      <td>4124.583333</td>\n",
       "    </tr>\n",
       "    <tr>\n",
       "      <th>5</th>\n",
       "      <td>Electronics &amp; Gadgets</td>\n",
       "      <td>53553.750000</td>\n",
       "    </tr>\n",
       "    <tr>\n",
       "      <th>6</th>\n",
       "      <td>Fitness &amp; Sports Equipment</td>\n",
       "      <td>67217.142857</td>\n",
       "    </tr>\n",
       "    <tr>\n",
       "      <th>7</th>\n",
       "      <td>Household Supplies</td>\n",
       "      <td>6370.000000</td>\n",
       "    </tr>\n",
       "    <tr>\n",
       "      <th>8</th>\n",
       "      <td>Ice Cream &amp; Desserts</td>\n",
       "      <td>1942.500000</td>\n",
       "    </tr>\n",
       "    <tr>\n",
       "      <th>9</th>\n",
       "      <td>Kitchen &amp; Cooking Tools</td>\n",
       "      <td>7710.952381</td>\n",
       "    </tr>\n",
       "    <tr>\n",
       "      <th>10</th>\n",
       "      <td>Meat, Tuna &amp; Protein</td>\n",
       "      <td>6270.000000</td>\n",
       "    </tr>\n",
       "    <tr>\n",
       "      <th>11</th>\n",
       "      <td>Other</td>\n",
       "      <td>9897.750000</td>\n",
       "    </tr>\n",
       "    <tr>\n",
       "      <th>12</th>\n",
       "      <td>Pasta, Rice &amp; Dry Goods</td>\n",
       "      <td>3734.000000</td>\n",
       "    </tr>\n",
       "    <tr>\n",
       "      <th>13</th>\n",
       "      <td>Personal Care</td>\n",
       "      <td>5487.619048</td>\n",
       "    </tr>\n",
       "    <tr>\n",
       "      <th>14</th>\n",
       "      <td>Snacks &amp; Cookies</td>\n",
       "      <td>1581.538462</td>\n",
       "    </tr>\n",
       "  </tbody>\n",
       "</table>\n",
       "</div>"
      ],
      "text/plain": [
       "                      Category  Average Price\n",
       "0             Baby & Childcare   32970.000000\n",
       "1              Breakfast & Jam   11111.666667\n",
       "2          Condiments & Sauces    5390.000000\n",
       "3               Dairy & Yogurt    2001.052632\n",
       "4                       Drinks    4124.583333\n",
       "5        Electronics & Gadgets   53553.750000\n",
       "6   Fitness & Sports Equipment   67217.142857\n",
       "7           Household Supplies    6370.000000\n",
       "8         Ice Cream & Desserts    1942.500000\n",
       "9      Kitchen & Cooking Tools    7710.952381\n",
       "10        Meat, Tuna & Protein    6270.000000\n",
       "11                       Other    9897.750000\n",
       "12     Pasta, Rice & Dry Goods    3734.000000\n",
       "13               Personal Care    5487.619048\n",
       "14            Snacks & Cookies    1581.538462"
      ]
     },
     "execution_count": 54,
     "metadata": {},
     "output_type": "execute_result"
    }
   ],
   "source": [
    "avg_price_category = df.groupby('Category')['Price'].mean().reset_index()\n",
    "avg_price_category.columns = ['Category','Average Price']\n",
    "avg_price_category"
   ]
  },
  {
   "cell_type": "code",
   "execution_count": 55,
   "id": "1a5194e3",
   "metadata": {},
   "outputs": [
    {
     "data": {
      "application/vnd.plotly.v1+json": {
       "config": {
        "plotlyServerURL": "https://plot.ly"
       },
       "data": [
        {
         "hovertemplate": "Category=%{x}<br>Average Price=%{y}<extra></extra>",
         "legendgroup": "",
         "marker": {
          "color": "#636efa",
          "pattern": {
           "shape": ""
          }
         },
         "name": "",
         "orientation": "v",
         "showlegend": false,
         "textposition": "auto",
         "type": "bar",
         "x": [
          "Baby & Childcare",
          "Breakfast & Jam",
          "Condiments & Sauces",
          "Dairy & Yogurt",
          "Drinks",
          "Electronics & Gadgets",
          "Fitness & Sports Equipment",
          "Household Supplies",
          "Ice Cream & Desserts",
          "Kitchen & Cooking Tools",
          "Meat, Tuna & Protein",
          "Other",
          "Pasta, Rice & Dry Goods",
          "Personal Care",
          "Snacks & Cookies"
         ],
         "xaxis": "x",
         "y": {
          "bdata": "AAAAAEAZ4EBVVVVV1bPFQAAAAAAADrVAQ3kN5TVEn0BVVVVVlRywQAAAAAA4JupASZIkSRJp8EAAAAAAAOK4QAAAAAAAWp5Az/M8z/MevkAAAAAAAH64QAAAAADgVMNAAAAAAAAsrUB6nud5nm+1QGIndmIntphA",
          "dtype": "f8"
         },
         "yaxis": "y"
        }
       ],
       "layout": {
        "barmode": "relative",
        "legend": {
         "tracegroupgap": 0
        },
        "template": {
         "data": {
          "bar": [
           {
            "error_x": {
             "color": "#2a3f5f"
            },
            "error_y": {
             "color": "#2a3f5f"
            },
            "marker": {
             "line": {
              "color": "#E5ECF6",
              "width": 0.5
             },
             "pattern": {
              "fillmode": "overlay",
              "size": 10,
              "solidity": 0.2
             }
            },
            "type": "bar"
           }
          ],
          "barpolar": [
           {
            "marker": {
             "line": {
              "color": "#E5ECF6",
              "width": 0.5
             },
             "pattern": {
              "fillmode": "overlay",
              "size": 10,
              "solidity": 0.2
             }
            },
            "type": "barpolar"
           }
          ],
          "carpet": [
           {
            "aaxis": {
             "endlinecolor": "#2a3f5f",
             "gridcolor": "white",
             "linecolor": "white",
             "minorgridcolor": "white",
             "startlinecolor": "#2a3f5f"
            },
            "baxis": {
             "endlinecolor": "#2a3f5f",
             "gridcolor": "white",
             "linecolor": "white",
             "minorgridcolor": "white",
             "startlinecolor": "#2a3f5f"
            },
            "type": "carpet"
           }
          ],
          "choropleth": [
           {
            "colorbar": {
             "outlinewidth": 0,
             "ticks": ""
            },
            "type": "choropleth"
           }
          ],
          "contour": [
           {
            "colorbar": {
             "outlinewidth": 0,
             "ticks": ""
            },
            "colorscale": [
             [
              0,
              "#0d0887"
             ],
             [
              0.1111111111111111,
              "#46039f"
             ],
             [
              0.2222222222222222,
              "#7201a8"
             ],
             [
              0.3333333333333333,
              "#9c179e"
             ],
             [
              0.4444444444444444,
              "#bd3786"
             ],
             [
              0.5555555555555556,
              "#d8576b"
             ],
             [
              0.6666666666666666,
              "#ed7953"
             ],
             [
              0.7777777777777778,
              "#fb9f3a"
             ],
             [
              0.8888888888888888,
              "#fdca26"
             ],
             [
              1,
              "#f0f921"
             ]
            ],
            "type": "contour"
           }
          ],
          "contourcarpet": [
           {
            "colorbar": {
             "outlinewidth": 0,
             "ticks": ""
            },
            "type": "contourcarpet"
           }
          ],
          "heatmap": [
           {
            "colorbar": {
             "outlinewidth": 0,
             "ticks": ""
            },
            "colorscale": [
             [
              0,
              "#0d0887"
             ],
             [
              0.1111111111111111,
              "#46039f"
             ],
             [
              0.2222222222222222,
              "#7201a8"
             ],
             [
              0.3333333333333333,
              "#9c179e"
             ],
             [
              0.4444444444444444,
              "#bd3786"
             ],
             [
              0.5555555555555556,
              "#d8576b"
             ],
             [
              0.6666666666666666,
              "#ed7953"
             ],
             [
              0.7777777777777778,
              "#fb9f3a"
             ],
             [
              0.8888888888888888,
              "#fdca26"
             ],
             [
              1,
              "#f0f921"
             ]
            ],
            "type": "heatmap"
           }
          ],
          "histogram": [
           {
            "marker": {
             "pattern": {
              "fillmode": "overlay",
              "size": 10,
              "solidity": 0.2
             }
            },
            "type": "histogram"
           }
          ],
          "histogram2d": [
           {
            "colorbar": {
             "outlinewidth": 0,
             "ticks": ""
            },
            "colorscale": [
             [
              0,
              "#0d0887"
             ],
             [
              0.1111111111111111,
              "#46039f"
             ],
             [
              0.2222222222222222,
              "#7201a8"
             ],
             [
              0.3333333333333333,
              "#9c179e"
             ],
             [
              0.4444444444444444,
              "#bd3786"
             ],
             [
              0.5555555555555556,
              "#d8576b"
             ],
             [
              0.6666666666666666,
              "#ed7953"
             ],
             [
              0.7777777777777778,
              "#fb9f3a"
             ],
             [
              0.8888888888888888,
              "#fdca26"
             ],
             [
              1,
              "#f0f921"
             ]
            ],
            "type": "histogram2d"
           }
          ],
          "histogram2dcontour": [
           {
            "colorbar": {
             "outlinewidth": 0,
             "ticks": ""
            },
            "colorscale": [
             [
              0,
              "#0d0887"
             ],
             [
              0.1111111111111111,
              "#46039f"
             ],
             [
              0.2222222222222222,
              "#7201a8"
             ],
             [
              0.3333333333333333,
              "#9c179e"
             ],
             [
              0.4444444444444444,
              "#bd3786"
             ],
             [
              0.5555555555555556,
              "#d8576b"
             ],
             [
              0.6666666666666666,
              "#ed7953"
             ],
             [
              0.7777777777777778,
              "#fb9f3a"
             ],
             [
              0.8888888888888888,
              "#fdca26"
             ],
             [
              1,
              "#f0f921"
             ]
            ],
            "type": "histogram2dcontour"
           }
          ],
          "mesh3d": [
           {
            "colorbar": {
             "outlinewidth": 0,
             "ticks": ""
            },
            "type": "mesh3d"
           }
          ],
          "parcoords": [
           {
            "line": {
             "colorbar": {
              "outlinewidth": 0,
              "ticks": ""
             }
            },
            "type": "parcoords"
           }
          ],
          "pie": [
           {
            "automargin": true,
            "type": "pie"
           }
          ],
          "scatter": [
           {
            "fillpattern": {
             "fillmode": "overlay",
             "size": 10,
             "solidity": 0.2
            },
            "type": "scatter"
           }
          ],
          "scatter3d": [
           {
            "line": {
             "colorbar": {
              "outlinewidth": 0,
              "ticks": ""
             }
            },
            "marker": {
             "colorbar": {
              "outlinewidth": 0,
              "ticks": ""
             }
            },
            "type": "scatter3d"
           }
          ],
          "scattercarpet": [
           {
            "marker": {
             "colorbar": {
              "outlinewidth": 0,
              "ticks": ""
             }
            },
            "type": "scattercarpet"
           }
          ],
          "scattergeo": [
           {
            "marker": {
             "colorbar": {
              "outlinewidth": 0,
              "ticks": ""
             }
            },
            "type": "scattergeo"
           }
          ],
          "scattergl": [
           {
            "marker": {
             "colorbar": {
              "outlinewidth": 0,
              "ticks": ""
             }
            },
            "type": "scattergl"
           }
          ],
          "scattermap": [
           {
            "marker": {
             "colorbar": {
              "outlinewidth": 0,
              "ticks": ""
             }
            },
            "type": "scattermap"
           }
          ],
          "scattermapbox": [
           {
            "marker": {
             "colorbar": {
              "outlinewidth": 0,
              "ticks": ""
             }
            },
            "type": "scattermapbox"
           }
          ],
          "scatterpolar": [
           {
            "marker": {
             "colorbar": {
              "outlinewidth": 0,
              "ticks": ""
             }
            },
            "type": "scatterpolar"
           }
          ],
          "scatterpolargl": [
           {
            "marker": {
             "colorbar": {
              "outlinewidth": 0,
              "ticks": ""
             }
            },
            "type": "scatterpolargl"
           }
          ],
          "scatterternary": [
           {
            "marker": {
             "colorbar": {
              "outlinewidth": 0,
              "ticks": ""
             }
            },
            "type": "scatterternary"
           }
          ],
          "surface": [
           {
            "colorbar": {
             "outlinewidth": 0,
             "ticks": ""
            },
            "colorscale": [
             [
              0,
              "#0d0887"
             ],
             [
              0.1111111111111111,
              "#46039f"
             ],
             [
              0.2222222222222222,
              "#7201a8"
             ],
             [
              0.3333333333333333,
              "#9c179e"
             ],
             [
              0.4444444444444444,
              "#bd3786"
             ],
             [
              0.5555555555555556,
              "#d8576b"
             ],
             [
              0.6666666666666666,
              "#ed7953"
             ],
             [
              0.7777777777777778,
              "#fb9f3a"
             ],
             [
              0.8888888888888888,
              "#fdca26"
             ],
             [
              1,
              "#f0f921"
             ]
            ],
            "type": "surface"
           }
          ],
          "table": [
           {
            "cells": {
             "fill": {
              "color": "#EBF0F8"
             },
             "line": {
              "color": "white"
             }
            },
            "header": {
             "fill": {
              "color": "#C8D4E3"
             },
             "line": {
              "color": "white"
             }
            },
            "type": "table"
           }
          ]
         },
         "layout": {
          "annotationdefaults": {
           "arrowcolor": "#2a3f5f",
           "arrowhead": 0,
           "arrowwidth": 1
          },
          "autotypenumbers": "strict",
          "coloraxis": {
           "colorbar": {
            "outlinewidth": 0,
            "ticks": ""
           }
          },
          "colorscale": {
           "diverging": [
            [
             0,
             "#8e0152"
            ],
            [
             0.1,
             "#c51b7d"
            ],
            [
             0.2,
             "#de77ae"
            ],
            [
             0.3,
             "#f1b6da"
            ],
            [
             0.4,
             "#fde0ef"
            ],
            [
             0.5,
             "#f7f7f7"
            ],
            [
             0.6,
             "#e6f5d0"
            ],
            [
             0.7,
             "#b8e186"
            ],
            [
             0.8,
             "#7fbc41"
            ],
            [
             0.9,
             "#4d9221"
            ],
            [
             1,
             "#276419"
            ]
           ],
           "sequential": [
            [
             0,
             "#0d0887"
            ],
            [
             0.1111111111111111,
             "#46039f"
            ],
            [
             0.2222222222222222,
             "#7201a8"
            ],
            [
             0.3333333333333333,
             "#9c179e"
            ],
            [
             0.4444444444444444,
             "#bd3786"
            ],
            [
             0.5555555555555556,
             "#d8576b"
            ],
            [
             0.6666666666666666,
             "#ed7953"
            ],
            [
             0.7777777777777778,
             "#fb9f3a"
            ],
            [
             0.8888888888888888,
             "#fdca26"
            ],
            [
             1,
             "#f0f921"
            ]
           ],
           "sequentialminus": [
            [
             0,
             "#0d0887"
            ],
            [
             0.1111111111111111,
             "#46039f"
            ],
            [
             0.2222222222222222,
             "#7201a8"
            ],
            [
             0.3333333333333333,
             "#9c179e"
            ],
            [
             0.4444444444444444,
             "#bd3786"
            ],
            [
             0.5555555555555556,
             "#d8576b"
            ],
            [
             0.6666666666666666,
             "#ed7953"
            ],
            [
             0.7777777777777778,
             "#fb9f3a"
            ],
            [
             0.8888888888888888,
             "#fdca26"
            ],
            [
             1,
             "#f0f921"
            ]
           ]
          },
          "colorway": [
           "#636efa",
           "#EF553B",
           "#00cc96",
           "#ab63fa",
           "#FFA15A",
           "#19d3f3",
           "#FF6692",
           "#B6E880",
           "#FF97FF",
           "#FECB52"
          ],
          "font": {
           "color": "#2a3f5f"
          },
          "geo": {
           "bgcolor": "white",
           "lakecolor": "white",
           "landcolor": "#E5ECF6",
           "showlakes": true,
           "showland": true,
           "subunitcolor": "white"
          },
          "hoverlabel": {
           "align": "left"
          },
          "hovermode": "closest",
          "mapbox": {
           "style": "light"
          },
          "paper_bgcolor": "white",
          "plot_bgcolor": "#E5ECF6",
          "polar": {
           "angularaxis": {
            "gridcolor": "white",
            "linecolor": "white",
            "ticks": ""
           },
           "bgcolor": "#E5ECF6",
           "radialaxis": {
            "gridcolor": "white",
            "linecolor": "white",
            "ticks": ""
           }
          },
          "scene": {
           "xaxis": {
            "backgroundcolor": "#E5ECF6",
            "gridcolor": "white",
            "gridwidth": 2,
            "linecolor": "white",
            "showbackground": true,
            "ticks": "",
            "zerolinecolor": "white"
           },
           "yaxis": {
            "backgroundcolor": "#E5ECF6",
            "gridcolor": "white",
            "gridwidth": 2,
            "linecolor": "white",
            "showbackground": true,
            "ticks": "",
            "zerolinecolor": "white"
           },
           "zaxis": {
            "backgroundcolor": "#E5ECF6",
            "gridcolor": "white",
            "gridwidth": 2,
            "linecolor": "white",
            "showbackground": true,
            "ticks": "",
            "zerolinecolor": "white"
           }
          },
          "shapedefaults": {
           "line": {
            "color": "#2a3f5f"
           }
          },
          "ternary": {
           "aaxis": {
            "gridcolor": "white",
            "linecolor": "white",
            "ticks": ""
           },
           "baxis": {
            "gridcolor": "white",
            "linecolor": "white",
            "ticks": ""
           },
           "bgcolor": "#E5ECF6",
           "caxis": {
            "gridcolor": "white",
            "linecolor": "white",
            "ticks": ""
           }
          },
          "title": {
           "x": 0.05
          },
          "xaxis": {
           "automargin": true,
           "gridcolor": "white",
           "linecolor": "white",
           "ticks": "",
           "title": {
            "standoff": 15
           },
           "zerolinecolor": "white",
           "zerolinewidth": 2
          },
          "yaxis": {
           "automargin": true,
           "gridcolor": "white",
           "linecolor": "white",
           "ticks": "",
           "title": {
            "standoff": 15
           },
           "zerolinecolor": "white",
           "zerolinewidth": 2
          }
         }
        },
        "title": {
         "text": "Average Price per Product Category"
        },
        "xaxis": {
         "anchor": "y",
         "domain": [
          0,
          1
         ],
         "title": {
          "text": "Category"
         }
        },
        "yaxis": {
         "anchor": "x",
         "domain": [
          0,
          1
         ],
         "title": {
          "text": "Average Price"
         }
        }
       }
      }
     },
     "metadata": {},
     "output_type": "display_data"
    }
   ],
   "source": [
    "fig = px.bar(avg_price_category, x='Category', y='Average Price', title='Average Price per Product Category')\n",
    "fig.show()\n"
   ]
  },
  {
   "cell_type": "code",
   "execution_count": null,
   "id": "f515d78d",
   "metadata": {},
   "outputs": [],
   "source": []
  },
  {
   "cell_type": "code",
   "execution_count": null,
   "id": "a670ac01",
   "metadata": {},
   "outputs": [],
   "source": []
  }
 ],
 "metadata": {
  "kernelspec": {
   "display_name": "Python 3",
   "language": "python",
   "name": "python3"
  },
  "language_info": {
   "codemirror_mode": {
    "name": "ipython",
    "version": 3
   },
   "file_extension": ".py",
   "mimetype": "text/x-python",
   "name": "python",
   "nbconvert_exporter": "python",
   "pygments_lexer": "ipython3",
   "version": "3.12.0"
  }
 },
 "nbformat": 4,
 "nbformat_minor": 5
}
